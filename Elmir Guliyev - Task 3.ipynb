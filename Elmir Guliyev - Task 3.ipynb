{
 "cells": [
  {
   "cell_type": "code",
   "execution_count": 13,
   "metadata": {},
   "outputs": [],
   "source": [
    "#Elmir Guliyev - HVABRZ - Project 3\n",
    "\n",
    "import math\n",
    "import random\n",
    "import numpy\n",
    "\n",
    "def idleExperts(expertsValues, realValues, learningRate):\n",
    "    numberOfExperts = len(expertsValues)\n",
    "    numberOfDays = len(realValues)\n",
    "    weights = [1 for i in range(0,numberOfExperts)]\n",
    "\n",
    "    print(\"Weights:{}\".format(weights))\n",
    "    print('\\n')\n",
    "\n",
    "    for day in range(0, numberOfDays):\n",
    "        # create an array of the active experts\n",
    "        activeExperts = []\n",
    "        for expertNumber in range(0, numberOfExperts):\n",
    "            if expertsValues[expertNumber][day] != -1:\n",
    "                activeExperts.append(expertNumber)\n",
    "        # create an array with the results of experts (1 for right)\n",
    "        # and calculate sumOfWeights of active experts\n",
    "        m = []\n",
    "        sumOfWeights = 0\n",
    "        for expertNumber in activeExperts:\n",
    "            if expertsValues[expertNumber][day] != realValues[day]:\n",
    "                mvalue = float(1)\n",
    "                m.append(mvalue)\n",
    "            else:\n",
    "                mvalue = float(0)\n",
    "                m.append(mvalue)\n",
    "            sumOfWeights += weights[expertNumber]\n",
    "        # choose which advice to follow\n",
    "        #   generate a random number\n",
    "        randomNumber = random.randint(0, 99)\n",
    "        rangeStart = 0\n",
    "        #   choose the expert based on random number\n",
    "        probabilities = []\n",
    "        for expertNumber in activeExperts:\n",
    "            probability = weights[expertNumber] / float(sumOfWeights)\n",
    "            probabilities.append(probability)\n",
    "            rangeEnd = rangeStart + 100 * probability\n",
    "            if randomNumber >= rangeStart & randomNumber < rangeEnd:\n",
    "                chosenExpertNumber = expertNumber\n",
    "        for number in range(0,len(activeExperts)):\n",
    "            array = [p * mvalue for (p,mvalue) in zip(probabilities,m)]\n",
    "            r = (sum(array) / float(1+learningRate)) - m[number]\n",
    "            weights[activeExperts[number]] *= math.pow(1+learningRate,r)\n",
    "\n",
    "        print(\"Day:{}\".format(day))\n",
    "        print(\"Weights:{}\".format(weights))\n",
    "        print(\"Probabilities:{}\".format(probabilities))\n",
    "        print(\"\\n\")"
   ]
  },
  {
   "cell_type": "code",
   "execution_count": 14,
   "metadata": {},
   "outputs": [
    {
     "name": "stdout",
     "output_type": "stream",
     "text": [
      "Weights:[1, 1, 1, 1, 1]\n",
      "\n",
      "\n",
      "Day:0\n",
      "Weights:[0.956352499790037, 1, 1, 1, 1]\n",
      "Probabilities:[1.0]\n",
      "\n",
      "\n",
      "Day:1\n",
      "Weights:[0.991425642972255, 0.8293390925960192, 1.036673865745024, 1.036673865745024, 1.036673865745024]\n",
      "Probabilities:[0.1929548997635964, 0.2017612750591009, 0.2017612750591009, 0.2017612750591009, 0.2017612750591009]\n",
      "\n",
      "\n",
      "Day:2\n",
      "Weights:[1.0396791173881847, 0.869703685715417, 0.869703685715417, 1.0871296071442713, 1.036673865745024]\n",
      "Probabilities:[0.25459604758698573, 0.21297255783228977, 0.26621569729036226, 0.26621569729036226]\n",
      "\n",
      "\n",
      "Day:3\n",
      "Weights:[0.9402757732660685, 0.9831895388703452, 0.7865516310962761, 1.0871296071442713, 1.036673865745024]\n",
      "Probabilities:[0.37410822641579594, 0.31294588679210206, 0.31294588679210206]\n",
      "\n",
      "\n",
      "Day:4\n",
      "Weights:[0.8263512755576117, 0.9831895388703452, 0.8640655780572888, 0.9554121919356405, 1.138837131153588]\n",
      "Probabilities:[0.24418745998764324, 0.20426565312790296, 0.2823250635543135, 0.2692218233301403]\n",
      "\n",
      "\n",
      "Day:5\n",
      "Weights:[0.8263512755576117, 0.9831895388703452, 0.8640655780572888, 0.9554121919356405, 1.138837131153588]\n",
      "Probabilities:[0.3090773862152082, 0.3677390739466415, 0.32318353983815035]\n",
      "\n",
      "\n",
      "Day:6\n",
      "Weights:[0.9090331849519604, 0.8652513228858189, 0.9505210528037877, 0.84080599954651, 1.138837131153588]\n",
      "Probabilities:[0.2277065427840678, 0.27092436040176443, 0.23809896751883822, 0.26327012929532956]\n",
      "\n",
      "\n"
     ]
    }
   ],
   "source": [
    "expertsValues = [[1,1,1,1,1,1,1],[-1,0,1,0,-1,1,0],[-1,1,0,1,0,1,1],[-1,1,1,-1,1,-1,0],[-1,1,-1,-1,0,-1,-1]]\n",
    "realValues = [0,1,1,0,0,1,1]\n",
    "learningRate = 0.25\n",
    "idleExperts(expertsValues, realValues, learningRate)"
   ]
  },
  {
   "cell_type": "code",
   "execution_count": null,
   "metadata": {},
   "outputs": [],
   "source": []
  },
  {
   "cell_type": "code",
   "execution_count": null,
   "metadata": {},
   "outputs": [],
   "source": []
  }
 ],
 "metadata": {
  "kernelspec": {
   "display_name": "Python 3",
   "language": "python",
   "name": "python3"
  },
  "language_info": {
   "codemirror_mode": {
    "name": "ipython",
    "version": 3
   },
   "file_extension": ".py",
   "mimetype": "text/x-python",
   "name": "python",
   "nbconvert_exporter": "python",
   "pygments_lexer": "ipython3",
   "version": "3.7.4"
  }
 },
 "nbformat": 4,
 "nbformat_minor": 2
}
